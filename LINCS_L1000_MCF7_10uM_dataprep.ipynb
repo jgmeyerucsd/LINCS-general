{
 "cells": [
  {
   "cell_type": "markdown",
   "metadata": {},
   "source": [
    "# Read SMILES for the 20k LINCS molecules"
   ]
  },
  {
   "cell_type": "markdown",
   "metadata": {},
   "source": [
    "### Uses enviroment ase py2.7.11 + cmappy 3.2.0 + ipykernel"
   ]
  },
  {
   "cell_type": "code",
   "execution_count": 1,
   "metadata": {},
   "outputs": [
    {
     "data": {
      "text/plain": [
       "'2.7.11'"
      ]
     },
     "execution_count": 1,
     "metadata": {},
     "output_type": "execute_result"
    }
   ],
   "source": [
    "import platform\n",
    "platform.python_version()"
   ]
  },
  {
   "cell_type": "code",
   "execution_count": 2,
   "metadata": {},
   "outputs": [
    {
     "name": "stderr",
     "output_type": "stream",
     "text": [
      "/home/jgmeyer2/anaconda3/envs/my_cmapPy_env/lib/python2.7/site-packages/h5py/__init__.py:34: FutureWarning: Conversion of the second argument of issubdtype from `float` to `np.floating` is deprecated. In future, it will be treated as `np.float64 == np.dtype(float).type`.\n",
      "  from ._conv import register_converters as _register_converters\n"
     ]
    },
    {
     "data": {
      "text/plain": [
       "'3.2.0'"
      ]
     },
     "execution_count": 2,
     "metadata": {},
     "output_type": "execute_result"
    }
   ],
   "source": [
    "import numpy as np\n",
    "import pandas as pd\n",
    "import cmapPy\n",
    "import pkg_resources\n",
    "from cmapPy.pandasGEXpress.parse import parse\n",
    "import random\n",
    "from random import sample\n",
    "from scipy import spatial\n",
    "pkg_resources.get_distribution(\"cmappy\").version\n"
   ]
  },
  {
   "cell_type": "markdown",
   "metadata": {},
   "source": [
    "##### Read the signatureinformation spreadsheet as a pandas dataframe"
   ]
  },
  {
   "cell_type": "code",
   "execution_count": 3,
   "metadata": {
    "scrolled": true
   },
   "outputs": [
    {
     "name": "stdout",
     "output_type": "stream",
     "text": [
      "Index([u'sig_id', u'pert_id', u'pert_iname', u'pert_type', u'cell_id',\n",
      "       u'pert_dose', u'pert_dose_unit', u'pert_idose', u'pert_time',\n",
      "       u'pert_time_unit', u'pert_itime', u'distil_id'],\n",
      "      dtype='object')\n"
     ]
    },
    {
     "data": {
      "text/html": [
       "<div>\n",
       "<style>\n",
       "    .dataframe thead tr:only-child th {\n",
       "        text-align: right;\n",
       "    }\n",
       "\n",
       "    .dataframe thead th {\n",
       "        text-align: left;\n",
       "    }\n",
       "\n",
       "    .dataframe tbody tr th {\n",
       "        vertical-align: top;\n",
       "    }\n",
       "</style>\n",
       "<table border=\"1\" class=\"dataframe\">\n",
       "  <thead>\n",
       "    <tr style=\"text-align: right;\">\n",
       "      <th></th>\n",
       "      <th>sig_id</th>\n",
       "      <th>pert_id</th>\n",
       "      <th>pert_iname</th>\n",
       "      <th>pert_type</th>\n",
       "      <th>cell_id</th>\n",
       "      <th>pert_dose</th>\n",
       "      <th>pert_dose_unit</th>\n",
       "      <th>pert_idose</th>\n",
       "      <th>pert_time</th>\n",
       "      <th>pert_time_unit</th>\n",
       "      <th>pert_itime</th>\n",
       "      <th>distil_id</th>\n",
       "    </tr>\n",
       "  </thead>\n",
       "  <tbody>\n",
       "    <tr>\n",
       "      <th>0</th>\n",
       "      <td>AML001_CD34_24H:A05</td>\n",
       "      <td>DMSO</td>\n",
       "      <td>DMSO</td>\n",
       "      <td>ctl_vehicle</td>\n",
       "      <td>CD34</td>\n",
       "      <td>0.1</td>\n",
       "      <td>%</td>\n",
       "      <td>0.1 %</td>\n",
       "      <td>24</td>\n",
       "      <td>h</td>\n",
       "      <td>24 h</td>\n",
       "      <td>AML001_CD34_24H_X1_F1B10:A05</td>\n",
       "    </tr>\n",
       "    <tr>\n",
       "      <th>1</th>\n",
       "      <td>AML001_CD34_24H:A06</td>\n",
       "      <td>DMSO</td>\n",
       "      <td>DMSO</td>\n",
       "      <td>ctl_vehicle</td>\n",
       "      <td>CD34</td>\n",
       "      <td>0.1</td>\n",
       "      <td>%</td>\n",
       "      <td>0.1 %</td>\n",
       "      <td>24</td>\n",
       "      <td>h</td>\n",
       "      <td>24 h</td>\n",
       "      <td>AML001_CD34_24H_X3_F1B10:A06</td>\n",
       "    </tr>\n",
       "    <tr>\n",
       "      <th>2</th>\n",
       "      <td>AML001_CD34_24H:B05</td>\n",
       "      <td>DMSO</td>\n",
       "      <td>DMSO</td>\n",
       "      <td>ctl_vehicle</td>\n",
       "      <td>CD34</td>\n",
       "      <td>0.1</td>\n",
       "      <td>%</td>\n",
       "      <td>0.1 %</td>\n",
       "      <td>24</td>\n",
       "      <td>h</td>\n",
       "      <td>24 h</td>\n",
       "      <td>AML001_CD34_24H_X1_F1B10:B05|AML001_CD34_24H_X...</td>\n",
       "    </tr>\n",
       "    <tr>\n",
       "      <th>3</th>\n",
       "      <td>AML001_CD34_24H:B06</td>\n",
       "      <td>DMSO</td>\n",
       "      <td>DMSO</td>\n",
       "      <td>ctl_vehicle</td>\n",
       "      <td>CD34</td>\n",
       "      <td>0.1</td>\n",
       "      <td>%</td>\n",
       "      <td>0.1 %</td>\n",
       "      <td>24</td>\n",
       "      <td>h</td>\n",
       "      <td>24 h</td>\n",
       "      <td>AML001_CD34_24H_X3_F1B10:B06</td>\n",
       "    </tr>\n",
       "    <tr>\n",
       "      <th>4</th>\n",
       "      <td>AML001_CD34_24H:BRD-A03772856:0.37037</td>\n",
       "      <td>BRD-A03772856</td>\n",
       "      <td>BRD-A03772856</td>\n",
       "      <td>trt_cp</td>\n",
       "      <td>CD34</td>\n",
       "      <td>0.37037</td>\n",
       "      <td>µM</td>\n",
       "      <td>500 nM</td>\n",
       "      <td>24</td>\n",
       "      <td>h</td>\n",
       "      <td>24 h</td>\n",
       "      <td>AML001_CD34_24H_X1_F1B10:J04|AML001_CD34_24H_X...</td>\n",
       "    </tr>\n",
       "  </tbody>\n",
       "</table>\n",
       "</div>"
      ],
      "text/plain": [
       "                                  sig_id        pert_id     pert_iname  \\\n",
       "0                    AML001_CD34_24H:A05           DMSO           DMSO   \n",
       "1                    AML001_CD34_24H:A06           DMSO           DMSO   \n",
       "2                    AML001_CD34_24H:B05           DMSO           DMSO   \n",
       "3                    AML001_CD34_24H:B06           DMSO           DMSO   \n",
       "4  AML001_CD34_24H:BRD-A03772856:0.37037  BRD-A03772856  BRD-A03772856   \n",
       "\n",
       "     pert_type cell_id pert_dose pert_dose_unit pert_idose  pert_time  \\\n",
       "0  ctl_vehicle    CD34       0.1              %      0.1 %         24   \n",
       "1  ctl_vehicle    CD34       0.1              %      0.1 %         24   \n",
       "2  ctl_vehicle    CD34       0.1              %      0.1 %         24   \n",
       "3  ctl_vehicle    CD34       0.1              %      0.1 %         24   \n",
       "4       trt_cp    CD34   0.37037             µM     500 nM         24   \n",
       "\n",
       "  pert_time_unit pert_itime                                          distil_id  \n",
       "0              h       24 h                       AML001_CD34_24H_X1_F1B10:A05  \n",
       "1              h       24 h                       AML001_CD34_24H_X3_F1B10:A06  \n",
       "2              h       24 h  AML001_CD34_24H_X1_F1B10:B05|AML001_CD34_24H_X...  \n",
       "3              h       24 h                       AML001_CD34_24H_X3_F1B10:B06  \n",
       "4              h       24 h  AML001_CD34_24H_X1_F1B10:J04|AML001_CD34_24H_X...  "
      ]
     },
     "execution_count": 3,
     "metadata": {},
     "output_type": "execute_result"
    }
   ],
   "source": [
    "sig_info = pd.read_csv('/media/jgmeyer2/u/LINCS/GSE92742_Broad_LINCS_sig_info.txt', sep=\"\\t\", low_memory=False)\n",
    "print(sig_info.columns)  ### print the column names\n",
    "sig_info.head(n=5)"
   ]
  },
  {
   "cell_type": "code",
   "execution_count": 4,
   "metadata": {},
   "outputs": [
    {
     "ename": "SyntaxError",
     "evalue": "invalid syntax (<ipython-input-4-6130b74f5246>, line 1)",
     "output_type": "error",
     "traceback": [
      "\u001b[0;36m  File \u001b[0;32m\"<ipython-input-4-6130b74f5246>\"\u001b[0;36m, line \u001b[0;32m1\u001b[0m\n\u001b[0;31m    len(sig_info.columns.)\u001b[0m\n\u001b[0m                         ^\u001b[0m\n\u001b[0;31mSyntaxError\u001b[0m\u001b[0;31m:\u001b[0m invalid syntax\n"
     ]
    }
   ],
   "source": [
    "len(sig_info.columns.)"
   ]
  },
  {
   "cell_type": "markdown",
   "metadata": {},
   "source": [
    "#### get subset matrix for ONLY MCF7"
   ]
  },
  {
   "cell_type": "code",
   "execution_count": 5,
   "metadata": {
    "scrolled": true
   },
   "outputs": [
    {
     "name": "stdout",
     "output_type": "stream",
     "text": [
      "63367\n"
     ]
    }
   ],
   "source": [
    "\n",
    "sig_subset = sig_info[sig_info[\"cell_id\"] == \"MCF7\"]\n",
    "print(len(sig_subset))"
   ]
  },
  {
   "cell_type": "markdown",
   "metadata": {},
   "source": [
    "\n",
    "### from the MCF7 or VCAP cell lines, take only those that:\n",
    "\n",
    "1. pert_type == trt_cp  (64065 total) | pert_type == ctl_vehicle  (4798 total)\n",
    "2. pert_itime == 24 h\n",
    "3. pert_idose\" == \"5 µM\" \"10 µM\" \"0.1 %\"\n",
    "\n",
    "DMSO included as blank picture"
   ]
  },
  {
   "cell_type": "code",
   "execution_count": 6,
   "metadata": {},
   "outputs": [
    {
     "name": "stdout",
     "output_type": "stream",
     "text": [
      "29312\n"
     ]
    }
   ],
   "source": [
    "veh_trt_array = np.asarray(sig_subset[\"pert_type\"] == \"trt_cp\")\n",
    "veh_trt_subset = sig_subset[veh_trt_array]\n",
    "print(len(veh_trt_subset))"
   ]
  },
  {
   "cell_type": "code",
   "execution_count": 7,
   "metadata": {},
   "outputs": [
    {
     "name": "stdout",
     "output_type": "stream",
     "text": [
      "17596\n"
     ]
    }
   ],
   "source": [
    "itime_subset = veh_trt_subset[veh_trt_subset[\"pert_itime\"] == \"24 h\"]\n",
    "print(len(itime_subset))"
   ]
  },
  {
   "cell_type": "code",
   "execution_count": 8,
   "metadata": {},
   "outputs": [
    {
     "name": "stdout",
     "output_type": "stream",
     "text": [
      "13434\n"
     ]
    }
   ],
   "source": [
    "### 5 uM and 10 uM\n",
    "#idose_array = np.asarray(itime_subset[\"pert_idose\"] == \"5 µM\") | np.asarray(itime_subset[\"pert_idose\"] ==   \"10 µM\" )\n",
    "#idose_subset = itime_subset[idose_array ]\n",
    "#print(len(idose_subset))"
   ]
  },
  {
   "cell_type": "code",
   "execution_count": 9,
   "metadata": {},
   "outputs": [
    {
     "name": "stdout",
     "output_type": "stream",
     "text": [
      "8419\n"
     ]
    }
   ],
   "source": [
    "### only 10 uM\n",
    "idose_subset = itime_subset[itime_subset[\"pert_idose\"] ==   \"10 µM\" ]\n",
    "print(len(idose_subset))"
   ]
  },
  {
   "cell_type": "code",
   "execution_count": 10,
   "metadata": {},
   "outputs": [],
   "source": [
    "#idose_subset = itime_subset[itime_subset[\"pert_idose\"] ==   \"5 µM\" ]\n",
    "#print(len(idose_subset))"
   ]
  },
  {
   "cell_type": "code",
   "execution_count": 11,
   "metadata": {
    "scrolled": true
   },
   "outputs": [],
   "source": [
    "#set(itime_subset[\"pert_idose\"])  ### what range of values does idose take?"
   ]
  },
  {
   "cell_type": "code",
   "execution_count": 12,
   "metadata": {
    "scrolled": true
   },
   "outputs": [],
   "source": [
    "sigIDs = idose_subset[\"sig_id\"] ### 31028"
   ]
  },
  {
   "cell_type": "markdown",
   "metadata": {},
   "source": [
    "##### Get only the landmark gene row ids"
   ]
  },
  {
   "cell_type": "code",
   "execution_count": 13,
   "metadata": {},
   "outputs": [],
   "source": [
    "gene_info = pd.read_csv(\"/media/jgmeyer2/u/LINCS/GSE92742_Broad_LINCS_gene_info.txt\", sep=\"\\t\", dtype=str)\n",
    "gene_info.columns\n",
    "landmark_gene_row_ids = gene_info[\"pr_gene_id\"][gene_info[\"pr_is_lm\"] == \"1\"]\n",
    "#landmark_gene_row_ids"
   ]
  },
  {
   "cell_type": "markdown",
   "metadata": {},
   "source": [
    "#### Parse metadata from gtx"
   ]
  },
  {
   "cell_type": "code",
   "execution_count": 14,
   "metadata": {},
   "outputs": [],
   "source": [
    "gctxPATH = \"/media/jgmeyer2/u/LINCS/GSE92742_Broad_LINCS_Level5_COMPZ.MODZ_n473647x12328.gctx\""
   ]
  },
  {
   "cell_type": "code",
   "execution_count": 15,
   "metadata": {},
   "outputs": [
    {
     "data": {
      "text/html": [
       "<div>\n",
       "<style>\n",
       "    .dataframe thead tr:only-child th {\n",
       "        text-align: right;\n",
       "    }\n",
       "\n",
       "    .dataframe thead th {\n",
       "        text-align: left;\n",
       "    }\n",
       "\n",
       "    .dataframe tbody tr th {\n",
       "        vertical-align: top;\n",
       "    }\n",
       "</style>\n",
       "<table border=\"1\" class=\"dataframe\">\n",
       "  <thead>\n",
       "    <tr style=\"text-align: right;\">\n",
       "      <th>chd</th>\n",
       "    </tr>\n",
       "    <tr>\n",
       "      <th>cid</th>\n",
       "    </tr>\n",
       "  </thead>\n",
       "  <tbody>\n",
       "    <tr>\n",
       "      <th>CPC005_A375_6H:BRD-A85280935-003-01-7:10</th>\n",
       "    </tr>\n",
       "    <tr>\n",
       "      <th>CPC005_A375_6H:BRD-A07824748-001-02-6:10</th>\n",
       "    </tr>\n",
       "    <tr>\n",
       "      <th>CPC004_A375_6H:BRD-K20482099-001-01-1:10</th>\n",
       "    </tr>\n",
       "    <tr>\n",
       "      <th>CPC005_A375_6H:BRD-K62929068-001-03-3:10</th>\n",
       "    </tr>\n",
       "    <tr>\n",
       "      <th>CPC005_A375_6H:BRD-K43405658-001-01-8:10</th>\n",
       "    </tr>\n",
       "  </tbody>\n",
       "</table>\n",
       "</div>"
      ],
      "text/plain": [
       "Empty DataFrame\n",
       "Columns: []\n",
       "Index: [CPC005_A375_6H:BRD-A85280935-003-01-7:10, CPC005_A375_6H:BRD-A07824748-001-02-6:10, CPC004_A375_6H:BRD-K20482099-001-01-1:10, CPC005_A375_6H:BRD-K62929068-001-03-3:10, CPC005_A375_6H:BRD-K43405658-001-01-8:10]"
      ]
     },
     "execution_count": 15,
     "metadata": {},
     "output_type": "execute_result"
    }
   ],
   "source": [
    "my_col_metadata = parse(gctxPATH, col_meta_only=True)\n",
    "my_col_metadata[0:5]"
   ]
  },
  {
   "cell_type": "code",
   "execution_count": 16,
   "metadata": {},
   "outputs": [
    {
     "data": {
      "text/html": [
       "<div>\n",
       "<style>\n",
       "    .dataframe thead tr:only-child th {\n",
       "        text-align: right;\n",
       "    }\n",
       "\n",
       "    .dataframe thead th {\n",
       "        text-align: left;\n",
       "    }\n",
       "\n",
       "    .dataframe tbody tr th {\n",
       "        vertical-align: top;\n",
       "    }\n",
       "</style>\n",
       "<table border=\"1\" class=\"dataframe\">\n",
       "  <thead>\n",
       "    <tr style=\"text-align: right;\">\n",
       "      <th>rhd</th>\n",
       "    </tr>\n",
       "    <tr>\n",
       "      <th>rid</th>\n",
       "    </tr>\n",
       "  </thead>\n",
       "  <tbody>\n",
       "    <tr>\n",
       "      <th>5720</th>\n",
       "    </tr>\n",
       "    <tr>\n",
       "      <th>466</th>\n",
       "    </tr>\n",
       "    <tr>\n",
       "      <th>6009</th>\n",
       "    </tr>\n",
       "    <tr>\n",
       "      <th>2309</th>\n",
       "    </tr>\n",
       "    <tr>\n",
       "      <th>387</th>\n",
       "    </tr>\n",
       "  </tbody>\n",
       "</table>\n",
       "</div>"
      ],
      "text/plain": [
       "Empty DataFrame\n",
       "Columns: []\n",
       "Index: [5720, 466, 6009, 2309, 387]"
      ]
     },
     "execution_count": 16,
     "metadata": {},
     "output_type": "execute_result"
    }
   ],
   "source": [
    "my_row_metadata = parse(gctxPATH, row_meta_only=True)\n",
    "my_row_metadata[0:5]"
   ]
  },
  {
   "cell_type": "markdown",
   "metadata": {},
   "source": [
    "### Make gctoo object with only above cids and only landmark gene rows"
   ]
  },
  {
   "cell_type": "code",
   "execution_count": 17,
   "metadata": {
    "scrolled": true
   },
   "outputs": [],
   "source": [
    "temp_gctoo = parse( gctxPATH, cid=sigIDs, rid = landmark_gene_row_ids )"
   ]
  },
  {
   "cell_type": "code",
   "execution_count": 18,
   "metadata": {},
   "outputs": [
    {
     "data": {
      "text/plain": [
       "(978, 8419)"
      ]
     },
     "execution_count": 18,
     "metadata": {},
     "output_type": "execute_result"
    }
   ],
   "source": [
    "# Check to make sure we have (978 x 8419 columns) of expression data\n",
    "# 5uM + 10 uM == 13434 compounds\n",
    "# 5 uM = 5015 compounds\n",
    "# 10 uM = 8419 matching, \n",
    "\n",
    "temp_gctoo.data_df.shape #"
   ]
  },
  {
   "cell_type": "markdown",
   "metadata": {},
   "source": [
    "### Save the instance of my gctoo subset"
   ]
  },
  {
   "cell_type": "code",
   "execution_count": 22,
   "metadata": {},
   "outputs": [],
   "source": [
    "import cmapPy.pandasGEXpress.write_gctx as wg"
   ]
  },
  {
   "cell_type": "markdown",
   "metadata": {},
   "source": [
    "###### Write 5uM + 10 uM"
   ]
  },
  {
   "cell_type": "code",
   "execution_count": 23,
   "metadata": {},
   "outputs": [],
   "source": [
    "#wg.write(temp_gctoo, \"MCF7_24h_5uM_10uM_978x13434\")"
   ]
  },
  {
   "cell_type": "markdown",
   "metadata": {},
   "source": [
    "##### Write 5 uM"
   ]
  },
  {
   "cell_type": "code",
   "execution_count": null,
   "metadata": {},
   "outputs": [],
   "source": [
    "#wg.write(noDMSO_gctoo, \"MCF7_24h_5uM_978x5015\")"
   ]
  },
  {
   "cell_type": "markdown",
   "metadata": {},
   "source": [
    "##### Write 10 uM"
   ]
  },
  {
   "cell_type": "code",
   "execution_count": 33,
   "metadata": {},
   "outputs": [],
   "source": [
    "wg.write(noDMSO_gctoo, \"MCF7_24h_10uM_978x8419\")"
   ]
  },
  {
   "cell_type": "markdown",
   "metadata": {},
   "source": [
    "# Start here with pre-filtered gctx"
   ]
  },
  {
   "cell_type": "markdown",
   "metadata": {},
   "source": [
    "### Read the saved gctx - MCF7_24h"
   ]
  },
  {
   "cell_type": "code",
   "execution_count": 21,
   "metadata": {},
   "outputs": [],
   "source": [
    "PATH = \"MCF7_24h_10uM_978x8419.gctx\""
   ]
  },
  {
   "cell_type": "code",
   "execution_count": 22,
   "metadata": {},
   "outputs": [],
   "source": [
    "noDMSO_gctoo = parse(PATH, make_multiindex=False)  ### excluding DMSO"
   ]
  },
  {
   "cell_type": "markdown",
   "metadata": {},
   "source": [
    "# Map the columns to their compound identity\n",
    "compound identity is the part \"BRD-A07824748\"\n",
    "\n",
    "Preceded by a colon and exactly 16 characters?"
   ]
  },
  {
   "cell_type": "code",
   "execution_count": 23,
   "metadata": {},
   "outputs": [
    {
     "data": {
      "text/html": [
       "<div>\n",
       "<style>\n",
       "    .dataframe thead tr:only-child th {\n",
       "        text-align: right;\n",
       "    }\n",
       "\n",
       "    .dataframe thead th {\n",
       "        text-align: left;\n",
       "    }\n",
       "\n",
       "    .dataframe tbody tr th {\n",
       "        vertical-align: top;\n",
       "    }\n",
       "</style>\n",
       "<table border=\"1\" class=\"dataframe\">\n",
       "  <thead>\n",
       "    <tr style=\"text-align: right;\">\n",
       "      <th>chd</th>\n",
       "    </tr>\n",
       "    <tr>\n",
       "      <th>cid</th>\n",
       "    </tr>\n",
       "  </thead>\n",
       "  <tbody>\n",
       "    <tr>\n",
       "      <th>CPC005_MCF7_24H:BRD-A85280935-003-01-7:10</th>\n",
       "    </tr>\n",
       "    <tr>\n",
       "      <th>CPC005_MCF7_24H:BRD-A07824748-001-02-6:10</th>\n",
       "    </tr>\n",
       "    <tr>\n",
       "      <th>CPC005_MCF7_24H:BRD-K62929068-001-03-3:10</th>\n",
       "    </tr>\n",
       "    <tr>\n",
       "      <th>CPC005_MCF7_24H:BRD-K43405658-001-01-8:10</th>\n",
       "    </tr>\n",
       "    <tr>\n",
       "      <th>CPC005_MCF7_24H:BRD-K51223576-001-01-3:10</th>\n",
       "    </tr>\n",
       "  </tbody>\n",
       "</table>\n",
       "</div>"
      ],
      "text/plain": [
       "Empty DataFrame\n",
       "Columns: []\n",
       "Index: [CPC005_MCF7_24H:BRD-A85280935-003-01-7:10, CPC005_MCF7_24H:BRD-A07824748-001-02-6:10, CPC005_MCF7_24H:BRD-K62929068-001-03-3:10, CPC005_MCF7_24H:BRD-K43405658-001-01-8:10, CPC005_MCF7_24H:BRD-K51223576-001-01-3:10]"
      ]
     },
     "execution_count": 23,
     "metadata": {},
     "output_type": "execute_result"
    }
   ],
   "source": [
    "my_col_metadata = parse(PATH, col_meta_only=True)\n",
    "my_col_metadata[0:5]"
   ]
  },
  {
   "cell_type": "code",
   "execution_count": 24,
   "metadata": {},
   "outputs": [
    {
     "data": {
      "text/html": [
       "<div>\n",
       "<style>\n",
       "    .dataframe thead tr:only-child th {\n",
       "        text-align: right;\n",
       "    }\n",
       "\n",
       "    .dataframe thead th {\n",
       "        text-align: left;\n",
       "    }\n",
       "\n",
       "    .dataframe tbody tr th {\n",
       "        vertical-align: top;\n",
       "    }\n",
       "</style>\n",
       "<table border=\"1\" class=\"dataframe\">\n",
       "  <thead>\n",
       "    <tr style=\"text-align: right;\">\n",
       "      <th>rhd</th>\n",
       "    </tr>\n",
       "    <tr>\n",
       "      <th>rid</th>\n",
       "    </tr>\n",
       "  </thead>\n",
       "  <tbody>\n",
       "    <tr>\n",
       "      <th>5720</th>\n",
       "    </tr>\n",
       "    <tr>\n",
       "      <th>466</th>\n",
       "    </tr>\n",
       "    <tr>\n",
       "      <th>6009</th>\n",
       "    </tr>\n",
       "    <tr>\n",
       "      <th>2309</th>\n",
       "    </tr>\n",
       "    <tr>\n",
       "      <th>387</th>\n",
       "    </tr>\n",
       "  </tbody>\n",
       "</table>\n",
       "</div>"
      ],
      "text/plain": [
       "Empty DataFrame\n",
       "Columns: []\n",
       "Index: [5720, 466, 6009, 2309, 387]"
      ]
     },
     "execution_count": 24,
     "metadata": {},
     "output_type": "execute_result"
    }
   ],
   "source": [
    "row_metadata = parse(PATH, row_meta_only=True)\n",
    "row_metadata[0:5]"
   ]
  },
  {
   "cell_type": "code",
   "execution_count": 25,
   "metadata": {},
   "outputs": [],
   "source": [
    "rids = list(row_metadata.index)"
   ]
  },
  {
   "cell_type": "code",
   "execution_count": 26,
   "metadata": {
    "scrolled": true
   },
   "outputs": [
    {
     "name": "stdout",
     "output_type": "stream",
     "text": [
      "8419\n",
      "unique chemical treatments\n",
      "6718\n"
     ]
    },
    {
     "data": {
      "text/plain": [
       "['BRD-A85280935',\n",
       " 'BRD-A07824748',\n",
       " 'BRD-K62929068',\n",
       " 'BRD-K43405658',\n",
       " 'BRD-K51223576']"
      ]
     },
     "execution_count": 26,
     "metadata": {},
     "output_type": "execute_result"
    }
   ],
   "source": [
    "cids = list(my_col_metadata.index)\n",
    "split1 = [x.split(\":\")[1] for x in cids]\n",
    "cleaned_chemids = [x[:13] for x in split1] ## list comprehension, keep only the first 13\n",
    "print(len(cleaned_chemids))\n",
    "print(\"unique chemical treatments\")\n",
    "print(len(set(cleaned_chemids)))\n",
    "cleaned_chemids[0:5]"
   ]
  },
  {
   "cell_type": "markdown",
   "metadata": {},
   "source": [
    "# Figure out why there are duplicate entries for some compounds"
   ]
  },
  {
   "cell_type": "markdown",
   "metadata": {},
   "source": [
    "### loop through IDs and record which ones have multiple"
   ]
  },
  {
   "cell_type": "code",
   "execution_count": 28,
   "metadata": {},
   "outputs": [],
   "source": [
    "### find duplicate columns and figure out why they are there\n",
    "dups_dict = {}\n",
    "lengths_dict = {}\n",
    "brdset = set(cleaned_chemids)\n",
    "\n",
    "for key in brdset:\n",
    "    tmp = [col for col in noDMSO_gctoo.data_df.columns if key in col]\n",
    "    dups_dict[key] = tmp\n",
    "    lengths_dict[key] = len(tmp)\n",
    "    \n",
    "#dups_dict\n"
   ]
  },
  {
   "cell_type": "code",
   "execution_count": 29,
   "metadata": {},
   "outputs": [
    {
     "name": "stdout",
     "output_type": "stream",
     "text": [
      "833\n"
     ]
    }
   ],
   "source": [
    "#### get only the broad ids that have a duplicate\n",
    "twos = [i for i, x in enumerate(lengths_dict.values()) if x == 2]\n",
    "print(len(twos))\n",
    "keys = list(dups_dict.keys())\n",
    "brdids_twos = [keys[x] for x in twos]\n"
   ]
  },
  {
   "cell_type": "code",
   "execution_count": 31,
   "metadata": {},
   "outputs": [],
   "source": [
    "dat1 = noDMSO_gctoo.data_df.filter(regex=brdids_twos[0])"
   ]
  },
  {
   "cell_type": "code",
   "execution_count": null,
   "metadata": {
    "scrolled": true
   },
   "outputs": [],
   "source": [
    "dat2 = dat1\n",
    "for i in range(1,len(brdids_twos)):\n",
    "    dat2 = dat2.join(noDMSO_gctoo.data_df.filter(regex=brdids_twos[i]))\n",
    "#dat2"
   ]
  },
  {
   "cell_type": "code",
   "execution_count": 33,
   "metadata": {},
   "outputs": [],
   "source": [
    "### get the correlation between pairs of measurements\n",
    "corr_list = []\n",
    "for i in range(0,len(dat2.columns),2):\n",
    "    corr_list.append(dat2.iloc[:,i:i+2].corr().iloc[1,0])"
   ]
  },
  {
   "cell_type": "code",
   "execution_count": 37,
   "metadata": {},
   "outputs": [
    {
     "data": {
      "image/png": "[encoded data removed]",
      "text/plain": [
       "<matplotlib.figure.Figure at 0x7f957eda4cd0>"
      ]
     },
     "metadata": {
      "needs_background": "light"
     },
     "output_type": "display_data"
    }
   ],
   "source": [
    "import seaborn as sns\n",
    "sns.residplot(range(0,833), corr_list)\n",
    "sns.set()"
   ]
  },
  {
   "cell_type": "code",
   "execution_count": null,
   "metadata": {},
   "outputs": [],
   "source": []
  }
 ],
 "metadata": {
  "kernelspec": {
   "display_name": "cmappy_py27",
   "language": "python",
   "name": "my_cmappy_enz"
  },
  "language_info": {
   "codemirror_mode": {
    "name": "ipython",
    "version": 2
   },
   "file_extension": ".py",
   "mimetype": "text/x-python",
   "name": "python",
   "nbconvert_exporter": "python",
   "pygments_lexer": "ipython2",
   "version": "2.7.11"
  }
 },
 "nbformat": 4,
 "nbformat_minor": 2
}
